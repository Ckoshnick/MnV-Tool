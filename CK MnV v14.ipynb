{
 "cells": [
  {
   "cell_type": "code",
   "execution_count": 1,
   "metadata": {
    "slideshow": {
     "slide_type": "slide"
    }
   },
   "outputs": [
    {
     "name": "stderr",
     "output_type": "stream",
     "text": [
      "/anaconda2/lib/python2.7/site-packages/statsmodels/compat/pandas.py:56: FutureWarning: The pandas.core.datetools module is deprecated and will be removed in a future version. Please use the pandas.tseries module instead.\n",
      "  from pandas.core import datetools\n"
     ]
    },
    {
     "data": {
      "text/html": [
       "<style>.container { width:90% !important; }</style>"
      ],
      "text/plain": [
       "<IPython.core.display.HTML object>"
      ]
     },
     "metadata": {},
     "output_type": "display_data"
    },
    {
     "name": "stdout",
     "output_type": "stream",
     "text": [
      "Version 1.4\n"
     ]
    }
   ],
   "source": [
    "import sys\n",
    "\n",
    "import pandas as pd\n",
    "import matplotlib.pyplot as plt\n",
    "\n",
    "from IPython.core.display import display, HTML\n",
    "\n",
    "# toolPath = r'/Users/decolvin/Box Sync/UCD_ECO_coding/mypy'\n",
    "# sys.path.append(toolPath)\n",
    "\n",
    "import mnv14 as mnv\n",
    "\n",
    "display(HTML(\"<style>.container { width:90% !important; }</style>\"))\n",
    "\n",
    "pd.set_option('display.max_rows', 50)\n",
    "pd.set_option('display.max_columns', 50)\n",
    "pd.set_option('display.width', 500)\n",
    "\n",
    "print(mnv.version)"
   ]
  },
  {
   "cell_type": "markdown",
   "metadata": {
    "slideshow": {
     "slide_type": "slide"
    }
   },
   "source": [
    "### Local Data Loading"
   ]
  },
  {
   "cell_type": "code",
   "execution_count": null,
   "metadata": {
    "slideshow": {
     "slide_type": "subslide"
    }
   },
   "outputs": [],
   "source": [
    "filePath = 'data/gbsfkilledvif.xlsx'\n",
    "data = pd.read_excel(filePath, header=0, index_col=0, parse_date=True, infer_datetime_format=True)\n",
    "print(data.columns)"
   ]
  },
  {
   "cell_type": "markdown",
   "metadata": {
    "slideshow": {
     "slide_type": "slide"
    }
   },
   "source": [
    "### PI Data Loading"
   ]
  },
  {
   "cell_type": "code",
   "execution_count": 2,
   "metadata": {
    "slideshow": {
     "slide_type": "subslide"
    }
   },
   "outputs": [
    {
     "name": "stdout",
     "output_type": "stream",
     "text": [
      "[u'Shields_ChilledWater_Demand_kBtu', u'Shields_Electricity_Demand_kBtu', u'Shields_Steam_Demand_kBtu']\n"
     ]
    }
   ],
   "source": [
    "from PI_client2 import pi_client\n",
    "pi = pi_client()\n",
    "\n",
    "tags = pi.search_by_point('*shields*kbtu*')[0]\n",
    "#tags += pi.search_by_point('*shields*kbtu*')[0]\n",
    "\n",
    "print(tags)"
   ]
  },
  {
   "cell_type": "markdown",
   "metadata": {
    "slideshow": {
     "slide_type": "subslide"
    }
   },
   "source": [
    "#### Pull tags"
   ]
  },
  {
   "cell_type": "code",
   "execution_count": null,
   "metadata": {
    "slideshow": {
     "slide_type": "subslide"
    }
   },
   "outputs": [],
   "source": [
    "startDate = '2017-01-01'\n",
    "endDate = '2018-01-01'\n",
    "interval = '1 hour' #Can be \"minute\" \"hour\" \"day\"\n",
    "calculation = 'calculated' # Redundant?\n",
    "\n",
    "# data = pi.get_stream_by_point(tags, start=startDate, end=endDate, interval=interval, calculation=calculation)"
   ]
  },
  {
   "cell_type": "markdown",
   "metadata": {
    "slideshow": {
     "slide_type": "slide"
    }
   },
   "source": [
    "# Data Section"
   ]
  },
  {
   "cell_type": "code",
   "execution_count": null,
   "metadata": {
    "scrolled": false,
    "slideshow": {
     "slide_type": "subslide"
    }
   },
   "outputs": [],
   "source": [
    "dataParams = {'column': 1,\n",
    "              'IQRmult' : 4.0,\n",
    "              'IQR' : 'y', \n",
    "              'resampleRate' : 'D', #'D' for daily 'H' for hourly\n",
    "              'OATsource' : 'file', #'self' or 'file'\n",
    "              'OATname' : 'OAT', #Name of OAT column if OATsource is 'self'} #only needed with sliceType : 'ranges'\n",
    "              'sliceType' : 'ranges', #half, middate, ranges\n",
    "              'midDate' : '2017-01-01', #only needed with sliceType : 'middate'\n",
    "              'dateRanges' : ['2016-06-01','2017-06-01','2017-08-01','2017-12-01'], #only needed with sliceType : 'ranges'\n",
    "             }\n",
    "\n",
    "dk = mnv.data_keeper(data, dataParams)\n",
    "dk.default_clean()\n",
    "\n",
    "# Plots\n",
    "dk._outlier_plot()\n",
    "dk._resampled_plot(yrange=(-100,dk.modifiedData[dk.com].max()*1.1))\n",
    "dk._pre_post_plot()"
   ]
  },
  {
   "cell_type": "code",
   "execution_count": null,
   "metadata": {},
   "outputs": [],
   "source": [
    "\n"
   ]
  },
  {
   "cell_type": "markdown",
   "metadata": {
    "slideshow": {
     "slide_type": "slide"
    }
   },
   "source": [
    "# Many Linear Models"
   ]
  },
  {
   "cell_type": "code",
   "execution_count": null,
   "metadata": {
    "scrolled": false,
    "slideshow": {
     "slide_type": "subslide"
    }
   },
   "outputs": [],
   "source": [
    "modelParams = {'params': ['CDH','HDH','month','hour','weekday'],\n",
    "               'testTrainSplit': 'random',\n",
    "               'randomState': None,\n",
    "               'testSize': 0.2,\n",
    "               'commodityRate': 0.0157,\n",
    "               'paramPermuteList': ['', 'C(weekday)', 'C(month)']}\n",
    "\n",
    "allmod = mnv.many_ols(dk.pre, dk.post, modelParams)\n",
    "\n",
    "allmod.run_all_linear()\n",
    "print(allmod.statsPool[0:5])\n",
    "allmod.plot_pool(1)\n",
    "modelParams['params'] = allmod.statsPool.iloc[0]['params']"
   ]
  },
  {
   "cell_type": "markdown",
   "metadata": {
    "slideshow": {
     "slide_type": "slide"
    }
   },
   "source": [
    "# Single Linear Model"
   ]
  },
  {
   "cell_type": "code",
   "execution_count": null,
   "metadata": {
    "scrolled": false,
    "slideshow": {
     "slide_type": "subslide"
    }
   },
   "outputs": [],
   "source": [
    "mod = mnv.ols_model(dk.pre, dk.post, modelParams)\n",
    "\n",
    "\n",
    "mod.model_plot()\n",
    "mod.calculate_kfold()\n",
    "mod.calculate_vif()\n",
    "\n",
    "print(mod.vif[mod.vif['VIF'] > 10])\n",
    "\n",
    "print('\\nKfold')\n",
    "print(mod.kfoldStats)\n",
    "print(mod.kfoldRelative)\n",
    "\n",
    "plt.show() # Show plot before Stats summary\n",
    "mod.Fit.summary()"
   ]
  },
  {
   "cell_type": "markdown",
   "metadata": {
    "slideshow": {
     "slide_type": "slide"
    }
   },
   "source": [
    "### Savings"
   ]
  },
  {
   "cell_type": "code",
   "execution_count": null,
   "metadata": {
    "slideshow": {
     "slide_type": "subslide"
    }
   },
   "outputs": [],
   "source": [
    "print(\"Savings = $\" +str(round(mod.postCumsum * mod.params.commodityRate,1)))\n",
    "mod.savings_plot(yaxis='dollars')"
   ]
  },
  {
   "cell_type": "code",
   "execution_count": null,
   "metadata": {},
   "outputs": [],
   "source": [
    "mnv.create_archive(dk, mod)\n"
   ]
  },
  {
   "cell_type": "code",
   "execution_count": null,
   "metadata": {},
   "outputs": [],
   "source": []
  }
 ],
 "metadata": {
  "kernelspec": {
   "display_name": "Python 2",
   "language": "python",
   "name": "python2"
  },
  "language_info": {
   "codemirror_mode": {
    "name": "ipython",
    "version": 2
   },
   "file_extension": ".py",
   "mimetype": "text/x-python",
   "name": "python",
   "nbconvert_exporter": "python",
   "pygments_lexer": "ipython2",
   "version": "2.7.14"
  }
 },
 "nbformat": 4,
 "nbformat_minor": 2
}
