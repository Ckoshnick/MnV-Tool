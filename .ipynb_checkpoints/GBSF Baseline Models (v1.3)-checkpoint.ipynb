{
 "cells": [
  {
   "cell_type": "code",
   "execution_count": null,
   "metadata": {},
   "outputs": [],
   "source": [
    "## Options\n",
    "import numpy as np\n",
    "import pandas as pd\n",
    "import matplotlib.pyplot as plt\n",
    "from IPython.core.display import display, HTML\n",
    "display(HTML(\"<style>.container { width:90% !important; }</style>\"))\n",
    "\n",
    "pd.set_option('display.max_rows', 50)\n",
    "pd.set_option('display.max_columns', 50)\n",
    "pd.set_option('display.width', 500)\n",
    "\n",
    "%load_ext autoreload\n",
    "%autoreload 2"
   ]
  },
  {
   "cell_type": "code",
   "execution_count": null,
   "metadata": {},
   "outputs": [],
   "source": [
    "## Imports\n",
    "\n",
    "## Mac imports\n",
    "import sys\n",
    "toolPath = r'/Users/decolvin/Box Sync/UCD_ECO_coding/mypy'\n",
    "sys.path.append(toolPath)\n",
    "\n",
    "## Main Imports\n",
    "\n",
    "import mnv13 as mnv\n",
    "print(mnv.version)\n",
    "\n",
    "from PI_client import pi_client\n",
    "pi = pi_client()\n",
    "print(\"Success!\")"
   ]
  },
  {
   "cell_type": "markdown",
   "metadata": {},
   "source": [
    "### Local Data Loading"
   ]
  },
  {
   "cell_type": "code",
   "execution_count": null,
   "metadata": {},
   "outputs": [],
   "source": [
    "# filePath = 'data/OATtest.xlsx'\n",
    "filePath = r'/Users/decolvin/Downloads/GBSF Data 061318.csv'\n",
    "#filePath = 'data/arc2yeardata.xlsx'\n",
    "#data = pd.read_excel(filePath, header=0, index_col=0, parse_date=True)\n",
    "data = pd.read_csv(filePath, header=0, index_col=0, parse_dates=True)\n",
    "print(data.columns)"
   ]
  },
  {
   "cell_type": "markdown",
   "metadata": {},
   "source": [
    "### PI Data Loading"
   ]
  },
  {
   "cell_type": "code",
   "execution_count": null,
   "metadata": {},
   "outputs": [],
   "source": [
    "tags = pi.search_by_point('*shields*kbtu*')[0]\n",
    "#tags += pi.search_by_point('*shields*kbtu*')[0]\n",
    "\n",
    "print(tags)"
   ]
  },
  {
   "cell_type": "markdown",
   "metadata": {},
   "source": [
    "#### Pull tags"
   ]
  },
  {
   "cell_type": "code",
   "execution_count": null,
   "metadata": {
    "collapsed": true
   },
   "outputs": [],
   "source": [
    "tags_selected = tags\n",
    "\n",
    "startDate = '2017-01-01'\n",
    "endDate = '2018-01-01'\n",
    "\n",
    "interval = '1 hour' #Can be \"minute\" \"hour\" \"day\"\n",
    "\n",
    "calculation = 'calculated' # Redundant?\n",
    "\n",
    "# data = pi.get_stream_by_point(tags_selected, start=startDate, end=endDate, interval=interval, calculation=calculation)"
   ]
  },
  {
   "cell_type": "markdown",
   "metadata": {},
   "source": [
    "# Data Section"
   ]
  },
  {
   "cell_type": "code",
   "execution_count": null,
   "metadata": {},
   "outputs": [],
   "source": [
    "data.head()"
   ]
  },
  {
   "cell_type": "code",
   "execution_count": null,
   "metadata": {
    "scrolled": false
   },
   "outputs": [],
   "source": [
    "data.rename(columns={data.columns[0]:\"response\"},inplace=True)\n",
    "\n",
    "inputDict = {'IQRmult' : 4.0,\n",
    "             'IQR' : 'y', \n",
    "             'resampleRate' : 'D', #'D' for daily 'H' for hourly\n",
    "             'verbosity' : 3,\n",
    "             'sliceType' : 'ranges', #half, middate, ranges\n",
    "             'midDate' : '2017-01-01', #only needed with sliceType : 'middate'\n",
    "             'dateRanges' : ['2016-01-01','2018-01-01','2018-04-01','2018-04-01'], #only needed with sliceType : 'ranges'\n",
    "             'OATsource' : 'file', #'self' or 'file'\n",
    "             'OATname' : 'OAT', #Name of OAT column if OATsource is 'self'} #only needed with sliceType : 'ranges'\n",
    "            }\n",
    "\n",
    "dc = mnv.data_handler(data['response'], inputDict)\n",
    "dc.default_clean()\n",
    "\n",
    "## Run the next line incase the y-range is FUBAR\n",
    "dc._outlier_plot(dc.modifiedData[dc.com], yrange=(-100,dc.modifiedData[dc.com].max()*1.1)) \n",
    "\n",
    "# plot 3\n",
    "dc._pre_post_plot()"
   ]
  },
  {
   "cell_type": "markdown",
   "metadata": {},
   "source": [
    "# Many Linear Models"
   ]
  },
  {
   "cell_type": "code",
   "execution_count": null,
   "metadata": {},
   "outputs": [],
   "source": [
    "dc.pre.columns"
   ]
  },
  {
   "cell_type": "code",
   "execution_count": null,
   "metadata": {
    "scrolled": false
   },
   "outputs": [],
   "source": [
    "modelDict = {'params': 'CDH + HDH + C(month) + C(weekday)',\n",
    "             'testTrainSplit': 'random',\n",
    "             'randomState': 123,\n",
    "             'testSize': 0.2,\n",
    "             'commodityRate': 0.056,\n",
    "             'paramList': ['','C(month)','C(weekday)', 'C(hour)']}\n",
    "\n",
    "allmod = mnv.many_ols(dc.pre, dc.post, modelDict)\n",
    "\n",
    "allmod.run_all_linear()\n",
    "print(allmod.statsPool[0:5])\n",
    "allmod.plot_pool(1)"
   ]
  },
  {
   "cell_type": "markdown",
   "metadata": {},
   "source": [
    "# Single Linear Model"
   ]
  },
  {
   "cell_type": "code",
   "execution_count": null,
   "metadata": {
    "scrolled": false
   },
   "outputs": [],
   "source": [
    "modelDict['params'] = allmod.statsPool.iloc[0]['params']\n",
    "mod = mnv.ols_model(dc.pre, dc.post, modelDict)\n",
    "mod.model_plot()\n",
    "\n",
    "\n",
    "plt.show() # Show plot before Stats summary\n",
    "print(mod.vif)\n",
    "#mod.Fit.summary()"
   ]
  },
  {
   "cell_type": "code",
   "execution_count": null,
   "metadata": {},
   "outputs": [],
   "source": [
    "mod.kfold()\n",
    "print('')\n",
    "print(\"Stats over each fold:\") \n",
    "print(mod.kfoldStats)\n",
    "print('')\n",
    "print(\"Relative error over each fold\")\n",
    "print(mod.kfoldRelative.round(1))\n",
    "print('')\n",
    "print(\"Accuracy (Mean): %0.2f (+/- %0.2f)\" % (np.sqrt(mod.kfoldStats.mean()[2]), np.sqrt(mod.kfoldStats.std()[2])))\n",
    "print(\"Accuracy (Hi/Lo): %0.2f, %0.2f)\" % (np.sqrt(mod.kfoldStats.mean()[2])+np.sqrt(mod.kfoldStats.std()[2]), np.sqrt(mod.kfoldStats.mean()[2])-np.sqrt(mod.kfoldStats.std()[2])))"
   ]
  },
  {
   "cell_type": "code",
   "execution_count": null,
   "metadata": {},
   "outputs": [],
   "source": [
    "print (\"CV CVRMSE: %.4f\") %(np.sqrt(mod.kfoldRelative[5])/dc.pre.response.mean())"
   ]
  },
  {
   "cell_type": "code",
   "execution_count": null,
   "metadata": {},
   "outputs": [],
   "source": [
    "high = dc.pre.response + 742\n",
    "low = dc.pre.response - 495.58\n",
    "\n",
    "mod.Fit.conf_int.plot(figsize=(18,5))\n",
    "\n",
    "plt.show()"
   ]
  },
  {
   "cell_type": "markdown",
   "metadata": {},
   "source": [
    "### Savings"
   ]
  },
  {
   "cell_type": "code",
   "execution_count": null,
   "metadata": {},
   "outputs": [],
   "source": [
    "#rates = {'chw':0.056, 'steam':0.0157, 'elec':0.030} #kBTU prices for 2016(?)\n",
    "#commodity = 'chw'\n",
    "\n",
    "print(\"Savings = $\" +str(round(mod.postCumsum * mod.params.commodityRate,2)))\n",
    "mod.savings_plot(yaxis='dollars')"
   ]
  },
  {
   "cell_type": "code",
   "execution_count": null,
   "metadata": {
    "collapsed": true
   },
   "outputs": [],
   "source": []
  }
 ],
 "metadata": {
  "kernelspec": {
   "display_name": "Python 2",
   "language": "python",
   "name": "python2"
  },
  "language_info": {
   "codemirror_mode": {
    "name": "ipython",
    "version": 2
   },
   "file_extension": ".py",
   "mimetype": "text/x-python",
   "name": "python",
   "nbconvert_exporter": "python",
   "pygments_lexer": "ipython2",
   "version": "2.7.13"
  }
 },
 "nbformat": 4,
 "nbformat_minor": 2
}
