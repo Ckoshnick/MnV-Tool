{
 "cells": [
  {
   "cell_type": "code",
   "execution_count": null,
   "metadata": {},
   "outputs": [],
   "source": [
    "import pandas as pd\n",
    "import math\n",
    "from IPython.core.display import display, HTML\n",
    "#display(HTML(\"<style>.container { width:90% !important; }</style>\"))\n",
    "\n",
    "pd.set_option('display.max_rows', 50)\n",
    "pd.set_option('display.max_columns', 50)\n",
    "pd.set_option('display.width', 500)"
   ]
  },
  {
   "cell_type": "code",
   "execution_count": null,
   "metadata": {},
   "outputs": [],
   "source": [
    "#filePath = 'data/arc2yeardata.xlsx'\n",
    "filePath = '/Volumes/OM/ECO/M&V/Holiday Shutdowns/Memorial Day 2018/Archive/Campus Data 052918.csv'\n",
    "#data = pd.read_excel(filePath, header=0, index_col=0, parse_date=True)\n",
    "data = pd.read_csv(filePath, header=0, index_col=0, parse_dates=True)\n",
    "print(data.columns)"
   ]
  },
  {
   "cell_type": "code",
   "execution_count": null,
   "metadata": {},
   "outputs": [],
   "source": [
    "%load_ext autoreload\n",
    "%autoreload 2\n",
    "\n",
    "import sys\n",
    "toolPath = r'/Users/decolvin/Box Sync/UCD_ECO_coding/mypy'\n",
    "sys.path.append(toolPath)\n",
    "\n",
    "import mnv\n",
    "import matplotlib.pyplot as plt\n",
    "print(\"Success!\")"
   ]
  },
  {
   "cell_type": "code",
   "execution_count": null,
   "metadata": {},
   "outputs": [],
   "source": [
    "data.tail()"
   ]
  },
  {
   "cell_type": "code",
   "execution_count": null,
   "metadata": {},
   "outputs": [],
   "source": [
    "inputDict = {'IQRmult' : 3.0,\n",
    "                 'IQR' : 'y',\n",
    "                 'ceiling' : 1000000,\n",
    "                 'floor' : 0,\n",
    "                 'resampleRate' : 'D',\n",
    "                 'verbosity' : 3,\n",
    "                 'sliceType' : 'ranges', #half, middate, ranges\n",
    "                 'midDate' : '2018-01-01', #only needed with sliceType : 'middate'\n",
    "                 'dateRanges' : ['2017-04-01','2018-04-01','2018-05-26','2018-05-28'], #only needed with sliceType : 'ranges'\n",
    "                 'OATname' : None,\n",
    "                 'OATsource' : 'file'} #only needed with sliceType : 'ranges'}\n",
    "data.rename(columns={\"chw_tonh\":\"response\"},inplace=True)\n",
    "\n",
    "dc = mnv.data_handler(data[\"response\"], inputDict)\n",
    "dc.default_clean()\n",
    "\n",
    "# Run this incase the y-range is FUBAR\n",
    "#dc.outlier_plot(dc.modifiedData[dc.com]) \n",
    "\n",
    "fig = plt.figure(figsize=(18,5))\n",
    "ax = fig.add_subplot(111)\n",
    "ax.plot(dc.pre[dc.com],color='b')\n",
    "ax.plot(dc.post[dc.com],color='g')\n",
    "plt.show()"
   ]
  },
  {
   "cell_type": "code",
   "execution_count": null,
   "metadata": {},
   "outputs": [],
   "source": [
    "### Correlation\n",
    "dc.pre.plot.scatter(x='CDH', y='response',figsize=(18,2), color='blue')\n",
    "dc.pre.plot.scatter(x='HDH', y='response',figsize=(18,2), color='orange')\n",
    "plt.show()\n",
    "print \"Response vs CDH = %.2f\" %dc.pre.response.corr(dc.pre.CDH)\n",
    "print \"Response vs HDH = %.2f\" %dc.pre.response.corr(dc.pre.HDH)\n",
    "print \"Response vs CDH2 = %.2f\" %dc.pre.response.corr(dc.pre.CDH2)\n",
    "print \"Response vs HDH2 = %.2f\" %dc.pre.response.corr(dc.pre.HDH2)"
   ]
  },
  {
   "cell_type": "code",
   "execution_count": null,
   "metadata": {},
   "outputs": [],
   "source": [
    "dc.pre.columns"
   ]
  },
  {
   "cell_type": "code",
   "execution_count": null,
   "metadata": {
    "scrolled": false
   },
   "outputs": [],
   "source": [
    "allmod = mnv.many_ols(dc.pre, dc.post, inputParams=['', 'C(month)','C(weekend)'])\n",
    "\n",
    "allmod.run_all_linear()\n",
    "print(allmod.statsPool[0:3])\n",
    "#allmod.plot_pool(2)\n",
    "\n",
    "topParams = allmod.statsPool.iloc[0]['params']\n",
    "print\n",
    "print \"Best Paramaters = %s\" %topParams"
   ]
  },
  {
   "cell_type": "code",
   "execution_count": null,
   "metadata": {},
   "outputs": [],
   "source": [
    "params = topParams\n",
    "mod = mnv.ols_model(dc.pre, dc.post, params)\n",
    "\n",
    "plt.figure()\n",
    "mod.train.response.plot(figsize=(18,5))\n",
    "mod.trainCalc.plot(figsize=(18,5))\n",
    "\n",
    "plt.figure()\n",
    "mod.model_plot()\n",
    "\n",
    "plt.show()\n",
    "mod.Fit.summary()"
   ]
  },
  {
   "cell_type": "code",
   "execution_count": null,
   "metadata": {},
   "outputs": [],
   "source": [
    "rates = {'chw':0.047, 'steam':6, 'elec':0.065} #tonh,klb,and kWh prices for 2017\n",
    "commodity = 'chw'\n",
    "\n",
    "mod.savings_plot(yaxis='dollars', rate=rates[commodity])\n",
    "print \"Total Savings over Post Period = $%.0f\" %(mod.postCumsum * rates[commodity])\n",
    "print \"R-Squared = %.2f\" %mod.Fit.rsquared_adj\n",
    "print \"CVRMSE = %.2f\" %(math.sqrt(mod.Fit.mse_resid) / dc.pre.response.mean())"
   ]
  },
  {
   "cell_type": "code",
   "execution_count": null,
   "metadata": {
    "collapsed": true
   },
   "outputs": [],
   "source": []
  },
  {
   "cell_type": "code",
   "execution_count": null,
   "metadata": {
    "collapsed": true
   },
   "outputs": [],
   "source": []
  }
 ],
 "metadata": {
  "kernelspec": {
   "display_name": "Python 2",
   "language": "python",
   "name": "python2"
  },
  "language_info": {
   "codemirror_mode": {
    "name": "ipython",
    "version": 2
   },
   "file_extension": ".py",
   "mimetype": "text/x-python",
   "name": "python",
   "nbconvert_exporter": "python",
   "pygments_lexer": "ipython2",
   "version": "2.7.13"
  }
 },
 "nbformat": 4,
 "nbformat_minor": 2
}
