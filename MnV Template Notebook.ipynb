{
 "cells": [
  {
   "cell_type": "code",
   "execution_count": null,
   "metadata": {
    "scrolled": true,
    "slideshow": {
     "slide_type": "slide"
    }
   },
   "outputs": [],
   "source": [
    "## Make sure this tool Path Matches the path for YOUR computer\n",
    "toolPath = r'/Users/koshnick/Box Sync/UCD_ECO_coding/MnV-Tool/src'\n",
    "\n",
    "import sys\n",
    "import pandas as pd\n",
    "import matplotlib.pyplot as plt\n",
    "from IPython.core.display import display, HTML\n",
    "display(HTML(\"<style>.container { width:90% !important; }</style>\"))\n",
    "sys.path.append(toolPath)\n",
    "import mnv\n",
    "\n",
    "pd.set_option('display.max_columns', 10)\n",
    "pd.set_option('display.width', 500)\n",
    "\n",
    "print(mnv.version)"
   ]
  },
  {
   "cell_type": "markdown",
   "metadata": {
    "slideshow": {
     "slide_type": "slide"
    }
   },
   "source": [
    "### Local Data Loading"
   ]
  },
  {
   "cell_type": "code",
   "execution_count": null,
   "metadata": {
    "slideshow": {
     "slide_type": "subslide"
    }
   },
   "outputs": [],
   "source": [
    "filePath = 'data/pes kbtu.xlsx'\n",
    "data = pd.read_excel(filePath, header=0, index_col=0, parse_dates=True, infer_datetime_format=True)\n",
    "print(data.columns)"
   ]
  },
  {
   "cell_type": "markdown",
   "metadata": {
    "slideshow": {
     "slide_type": "slide"
    }
   },
   "source": [
    "### PI Data Loading"
   ]
  },
  {
   "cell_type": "code",
   "execution_count": null,
   "metadata": {
    "slideshow": {
     "slide_type": "subslide"
    }
   },
   "outputs": [],
   "source": [
    "from PI_client import pi_client\n",
    "pi = pi_client()\n",
    "\n",
    "tags = pi.search_by_point('*PES*kbtu')[0]\n",
    "# tags += pi.search_by_point('*shields*kbtu*')[0]\n",
    "\n",
    "print(tags)"
   ]
  },
  {
   "cell_type": "markdown",
   "metadata": {
    "slideshow": {
     "slide_type": "subslide"
    }
   },
   "source": [
    "#### Pull tags"
   ]
  },
  {
   "cell_type": "code",
   "execution_count": null,
   "metadata": {
    "slideshow": {
     "slide_type": "subslide"
    }
   },
   "outputs": [],
   "source": [
    "startDate = '2017-01-01'\n",
    "endDate = '2018-01-01'\n",
    "interval = '1 hour' #Can be \"minute\" \"hour\" \"day\"\n",
    "calculation = 'calculated' # Redundant?\n",
    "\n",
    "# data = pi.get_stream_by_point(tags, start=startDate, end=endDate, interval=interval, calculation=calculation)"
   ]
  },
  {
   "cell_type": "markdown",
   "metadata": {
    "slideshow": {
     "slide_type": "slide"
    }
   },
   "source": [
    "# Data Section"
   ]
  },
  {
   "cell_type": "code",
   "execution_count": null,
   "metadata": {
    "slideshow": {
     "slide_type": "subslide"
    }
   },
   "outputs": [],
   "source": [
    "dataParams = {'column': 0,\n",
    "              'IQRmult' : 3.0,\n",
    "              'IQR' : True,\n",
    "              'floor': 0,\n",
    "              'ceiling': 40000,\n",
    "              'resampleRate' : 'D', #'D' for daily 'H' for hourly\n",
    "              'OATsource' : 'file', #'self' or 'file'\n",
    "              'OATname' : 'OAT', #Name of OAT column if OATsource is 'self'} #only needed with sliceType : 'ranges'\n",
    "              'sliceType' : 'ranges', #half, middate, ranges\n",
    "              'midDate' : '2017-01-01', #only needed with sliceType : 'middate'\n",
    "              'dateRanges' : ['2016-01-01','2018-01-01','2018-01-16','2018-04-27'], #only needed with sliceType : 'ranges'\n",
    "             }\n",
    "\n",
    "dk = mnv.data_keeper(data, dataParams)\n",
    "dk.default_clean()\n",
    "\n",
    "# Plots\n",
    "dk._outlier_plot()\n",
    "dk._resampled_plot()\n",
    "dk._pre_post_plot()"
   ]
  },
  {
   "cell_type": "markdown",
   "metadata": {
    "slideshow": {
     "slide_type": "slide"
    }
   },
   "source": [
    "# Many Linear Models"
   ]
  },
  {
   "cell_type": "code",
   "execution_count": null,
   "metadata": {
    "scrolled": false,
    "slideshow": {
     "slide_type": "subslide"
    }
   },
   "outputs": [],
   "source": [
    "modelParams = {'var': ['CDH', 'HDH', 'month', 'hour', 'weekday'],\n",
    "               'testTrainSplit': 'random',\n",
    "               'randomState': 4291990,  #Good idea to use a seed value so folds are identical\n",
    "               'testSize': 0.20,\n",
    "               'commodityRate': 0.0651,\n",
    "               'varPermuteList': ['', 'C(month)', 'C(weekday)']\n",
    "              }\n",
    "\n",
    "allmod = mnv.many_ols(dk.pre, dk.post, modelParams)\n",
    "allmod.run_all_linear()\n",
    "\n",
    "print(allmod.statsPool[0:5])  # Display top stats\n",
    "allmod.plot_pool(2)  # Visualize top models"
   ]
  },
  {
   "cell_type": "markdown",
   "metadata": {
    "slideshow": {
     "slide_type": "slide"
    }
   },
   "source": [
    "# Single Linear Model"
   ]
  },
  {
   "cell_type": "code",
   "execution_count": null,
   "metadata": {
    "scrolled": false,
    "slideshow": {
     "slide_type": "subslide"
    }
   },
   "outputs": [],
   "source": [
    "# Set the modelParam \"var\" to the 'best' model from run_all_linear()\n",
    "modelParams['var'] = allmod.statsPool.iloc[0]['var']\n",
    "\n",
    "mod = mnv.ols_model(dk.pre, dk.post, modelParams)\n",
    "mod.calculate_kfold()\n",
    "mod.calculate_vif()\n",
    "\n",
    "print(mod.vif[mod.vif['VIF'] > 5])\n",
    "\n",
    "print('\\nKfold')\n",
    "print(mod.kfoldStats)\n",
    "\n",
    "mod.model_plot()\n",
    "plt.show() # Show plot before Stats summary\n",
    "mod.Fit.summary()"
   ]
  },
  {
   "cell_type": "markdown",
   "metadata": {
    "slideshow": {
     "slide_type": "slide"
    }
   },
   "source": [
    "### Savings"
   ]
  },
  {
   "cell_type": "code",
   "execution_count": null,
   "metadata": {
    "scrolled": false,
    "slideshow": {
     "slide_type": "subslide"
    }
   },
   "outputs": [],
   "source": [
    "print(\"Dollar Difference = $\" +str(round(mod.postDiffSum * mod.params.commodityRate, 1)))\n",
    "mod.savings_plot(yaxis='dollars')"
   ]
  },
  {
   "cell_type": "markdown",
   "metadata": {},
   "source": [
    "### TMY\n"
   ]
  },
  {
   "cell_type": "code",
   "execution_count": null,
   "metadata": {
    "scrolled": false
   },
   "outputs": [],
   "source": [
    "mod.generate_savings_summary()\n",
    "mod.calculate_F_uncertainty()\n",
    "mod.plot_tmy_comparison()\n",
    "\n",
    "# print(\"TMY annual estimated difference = $\" +str(round(mod.data['tmyDiff'].cumsum()[-1]*mod.params.commodityRate, 1)))\n",
    "\n",
    "print(mod.savingsSummary)"
   ]
  },
  {
   "cell_type": "markdown",
   "metadata": {},
   "source": [
    "### Creating an Archive"
   ]
  },
  {
   "cell_type": "code",
   "execution_count": null,
   "metadata": {},
   "outputs": [],
   "source": [
    "## Only run this section when you're confident in the model and wish to save it\n",
    "mnv.create_archive(dk, mod, saveFigs=True, copyRemodel=True)\n"
   ]
  }
 ],
 "metadata": {
  "kernelspec": {
   "display_name": "Python 3",
   "language": "python",
   "name": "python3"
  },
  "language_info": {
   "codemirror_mode": {
    "name": "ipython",
    "version": 3
   },
   "file_extension": ".py",
   "mimetype": "text/x-python",
   "name": "python",
   "nbconvert_exporter": "python",
   "pygments_lexer": "ipython3",
   "version": "3.6.5"
  }
 },
 "nbformat": 4,
 "nbformat_minor": 2
}
